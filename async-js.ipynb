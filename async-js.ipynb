{
 "cells": [
  {
   "cell_type": "markdown",
   "metadata": {},
   "source": [
    "# Promises"
   ]
  },
  {
   "cell_type": "markdown",
   "metadata": {},
   "source": [
    "## What is a Promise?\n",
    "Promises are objects that represent the eventual outcome of an asynchronous operation. A Promise object can be in one of three states:\n",
    "\n",
    "- **Pending:** The initial state— the operation has not completed yet.\n",
    "- **Fulfilled:** The operation has completed successfully and the promise now has a resolved value. For example, a request’s promise might resolve with a JSON object as its value.\n",
    "- **Rejected:** The operation has failed and the promise has a reason for the failure. This reason is usually an Error of some kind."
   ]
  },
  {
   "cell_type": "markdown",
   "metadata": {},
   "source": [
    "## Constructing a Promise Object\n",
    " To create a new Promise object, we use the new keyword and the Promise constructor method. The Promise constructor method takes a function parameter called the executor function which runs automatically when the constructor is called. The executor function generally starts an asynchronous operation and dictates how the promise should be settled.\n",
    "\n",
    "The executor function has two function parameters, usually referred to as the resolve() and reject() functions. The resolve() and reject() functions aren’t defined by the programmer. When the Promise constructor runs, JavaScript will pass its own resolve() and reject() functions into the executor function.\n",
    "\n",
    "- `resolve()` is a function with one argument. Under the hood, if invoked, resolve() will change the promise’s status from pending to fulfilled, and the promise’s resolved value will be set to the argument passed into resolve().\n",
    "- `reject()` is a function that takes a reason or error as an argument. Under the hood, if invoked, reject() will change the promise’s status from pending to rejected, and the promise’s rejection reason will be set to the argument passed into reject()."
   ]
  },
  {
   "cell_type": "code",
   "execution_count": 1,
   "metadata": {},
   "outputs": [
    {
     "name": "stdout",
     "output_type": "stream",
     "text": [
      "Promise { 'Sunglasses order processed.' }\n"
     ]
    }
   ],
   "source": [
    "const inventory = {\n",
    "    sunglasses: 1,\n",
    "    pants: 1088,\n",
    "    bags: 1344\n",
    "  };\n",
    "  \n",
    "// Create executor function\n",
    "function myExecutor(resolve, reject) {\n",
    "  if (inventory.sunglasses > 0) {\n",
    "    resolve('Sunglasses order processed.')\n",
    "  } else {\n",
    "    reject('That item is sold out.')\n",
    "  }\n",
    "}\n",
    "\n",
    "// Create function which returns promise\n",
    "function orderSunglasses() {\n",
    "  return new Promise(myExecutor)\n",
    "}\n",
    "\n",
    "// Store resolved promise object\n",
    "var orderPromise = orderSunglasses()\n",
    "\n",
    "// log promise\n",
    "console.log(orderPromise)"
   ]
  }
 ],
 "metadata": {
  "kernelspec": {
   "display_name": "JavaScript (Node.js)",
   "language": "javascript",
   "name": "javascript"
  },
  "language_info": {
   "file_extension": ".js",
   "mimetype": "application/javascript",
   "name": "javascript",
   "version": "8.10.0"
  }
 },
 "nbformat": 4,
 "nbformat_minor": 2
}
