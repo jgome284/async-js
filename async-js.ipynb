{
 "cells": [
  {
   "cell_type": "markdown",
   "metadata": {},
   "source": [
    "# Promises"
   ]
  },
  {
   "cell_type": "markdown",
   "metadata": {},
   "source": [
    "## What is a Promise?\n",
    "Originally, JavaScript used callback functions to handle asynchronous actions. The problem with callbacks is that they encourage complexly nested code which quickly becomes difficult to read, debug, and scale. With ES6, JavaScript integrated native promises which allow us to write significantly more readable code. Promises are objects that represent the eventual outcome of an asynchronous operation. A Promise object can be in one of three states:\n",
    "\n",
    "- **Pending:** The initial state— the operation has not completed yet.\n",
    "- **Fulfilled:** The operation has completed successfully and the promise now has a resolved value. For example, a request’s promise might resolve with a JSON object as its value.\n",
    "- **Rejected:** The operation has failed and the promise has a reason for the failure. This reason is usually an Error of some kind."
   ]
  },
  {
   "cell_type": "markdown",
   "metadata": {},
   "source": [
    "## Constructing a Promise Object\n",
    " To create a new Promise object, we use the new keyword and the Promise constructor method. The Promise constructor method takes a function parameter called the executor function which runs automatically when the constructor is called. The executor function generally starts an asynchronous operation and dictates how the promise should be settled.\n",
    "\n",
    "The executor function has two function parameters, usually referred to as the resolve() and reject() functions. The resolve() and reject() functions aren’t defined by the programmer. When the Promise constructor runs, JavaScript will pass its own resolve() and reject() functions into the executor function.\n",
    "\n",
    "- `resolve()` is a function with one argument. Under the hood, if invoked, resolve() will change the promise’s status from pending to fulfilled, and the promise’s resolved value will be set to the argument passed into resolve().\n",
    "- `reject()` is a function that takes a reason or error as an argument. Under the hood, if invoked, reject() will change the promise’s status from pending to rejected, and the promise’s rejection reason will be set to the argument passed into reject()."
   ]
  },
  {
   "cell_type": "code",
   "execution_count": null,
   "metadata": {},
   "outputs": [],
   "source": [
    "var {inventory} = require('./inventory.js');\n",
    "  \n",
    "// Create executor function\n",
    "function myExecutor(resolve, reject) {\n",
    "  if (inventory.sunglasses.stock > 0) {\n",
    "    resolve('Sunglasses are in stock! (⌐■_■)')\n",
    "  } else {\n",
    "    reject('Sunglasses are sold out')\n",
    "  }\n",
    "}\n",
    "\n",
    "// Create function which returns promise\n",
    "function orderSunglasses() {\n",
    "  return new Promise(myExecutor)\n",
    "}\n",
    "\n",
    "// Store resolved promise object\n",
    "var orderPromise = orderSunglasses()\n",
    "\n",
    "// log promise\n",
    "console.log(orderPromise)"
   ]
  },
  {
   "cell_type": "markdown",
   "metadata": {},
   "source": [
    "## The setTimeout() Function\n",
    "`setTimeout()` is a Node API (a comparable API is provided by web browsers) that uses callback functions to schedule tasks to be performed after a delay. It's useful to simulate asynchronous tasks. setTimeout() has two parameters: a callback function and a delay in milliseconds. In the example below, though setTimeout is called first, it's output is delivered after some delay."
   ]
  },
  {
   "cell_type": "code",
   "execution_count": null,
   "metadata": {},
   "outputs": [],
   "source": [
    "console.log(\"This is the first line of code\");\n",
    "\n",
    "function usingSTO() {\n",
    "  console.log(\"TuRTle InComIng... 🐢\")\n",
    "}\n",
    "\n",
    "setTimeout(usingSTO, 2000)\n",
    "\n",
    "console.log(\"This is the last line of code... but is it last to execute?? ...🤔\")"
   ]
  },
  {
   "cell_type": "markdown",
   "metadata": {},
   "source": [
    "# Consuming Promises\n",
    "The initial state of an asynchronous promise is pending, but we have a guarantee that it will settle. How do we tell the computer what should happen then? Promise objects come with an aptly named `.then()` method. It allows us to say, “I have a promise, when it settles, then here’s what I want to happen…” `.then()` is a higher-order function— it takes two callback functions as arguments. We refer to these callbacks as handlers. When the promise settles, the appropriate handler will be invoked with that settled value.\n",
    "\n",
    "- The first handler, sometimes called onFulfilled, is a success handler, and it should contain the logic for the promise *resolving*.\n",
    "- The second handler, sometimes called onRejected, is a failure handler, and it should contain the logic for the promise *rejecting*."
   ]
  },
  {
   "cell_type": "markdown",
   "metadata": {},
   "source": [
    "## Successful Promises\n",
    "To handle a “successful” promise, or a promise that resolved, we invoke .then() on the promise, passing in a success handler callback function."
   ]
  },
  {
   "cell_type": "code",
   "execution_count": null,
   "metadata": {},
   "outputs": [],
   "source": [
    "var prom = new Promise((resolve, reject) => {\n",
    "    resolve('Yay! 🥳');\n",
    "  });\n",
    "  \n",
    "var handleSuccess = (resolvedValue) => {\n",
    "  console.log(resolvedValue);\n",
    "};\n",
    "\n",
    "prom.then(handleSuccess); // Prints: 'Yay!'"
   ]
  },
  {
   "cell_type": "markdown",
   "metadata": {},
   "source": [
    "## Rejected Promises\n",
    "When promises fail, a handler can also be passed. The code below simulates a promise that *sometimes* is broken. 😲 \n",
    "\n",
    "Notice that .then() is passed with a second callback function for how to deal with a failed promise."
   ]
  },
  {
   "cell_type": "code",
   "execution_count": null,
   "metadata": {},
   "outputs": [],
   "source": [
    "var iffyProm = new Promise((resolve, reject) => {\n",
    "    let num = Math.random();\n",
    "    if (num < .5 ){\n",
    "      resolve('Yay! 🙌');\n",
    "    } else {\n",
    "      reject('Ohhh noooo! (っ °Д °;)っ');\n",
    "    }\n",
    "  });\n",
    "  \n",
    "var dealWithSuccess = (resolvedValue) => {\n",
    "  console.log(resolvedValue);\n",
    "};\n",
    "\n",
    "var dealWithFailure = (rejectionReason) => {\n",
    "  console.log(rejectionReason);\n",
    "};\n",
    "  \n",
    "iffyProm.then(dealWithSuccess, dealWithFailure);\n",
    "\n",
    "/*\n",
    "An alternative syntax for the above statement is shown below.\n",
    "\n",
    "iffyProm.then(dealWithSuccess).then(null, dealWithFailure);\n",
    "*/"
   ]
  },
  {
   "cell_type": "markdown",
   "metadata": {},
   "source": [
    "## Using .catch() with Promises\n",
    "\n",
    "One way to write cleaner code is to follow a principle called separation of concerns. As such, with separation of concerns, we should organize code into distinct sections each handling a specific task. In the case of handling promises, we should seperate logic for dealing with successful or failed promise resolutions. To do so, we can use .catch as follows:"
   ]
  },
  {
   "cell_type": "code",
   "execution_count": null,
   "metadata": {},
   "outputs": [],
   "source": [
    "var {checkInventory} = require('./inventory.js');\n",
    "\n",
    "var order = {\n",
    "  items: [['sunglasses', 1], ['bags', 2]] // adjust order quantities to see the failure case\n",
    "}; \n",
    "\n",
    "var handleSuccess = (resolvedValue) => {\n",
    "  var items = resolvedValue[0].items\n",
    "  console.log('shopping cart 🛒:')\n",
    "  for (let i = 0; i < items.length; i++) {\n",
    "    console.log(`- ${items[i][0]}: ${items[i][1]}`)\n",
    "  }\n",
    "};\n",
    "\n",
    "var handleFailure = (rejectReason) => {\n",
    "  console.log(rejectReason);\n",
    "};\n",
    "\n",
    "// Write your code below:\n",
    "checkInventory(order)\n",
    "  .then(handleSuccess)\n",
    "  .catch(handleFailure)"
   ]
  },
  {
   "cell_type": "markdown",
   "metadata": {},
   "source": [
    "## Chaining Promises\n",
    "This process of chaining promises together is called composition; promises are designed with composition in mind! In the example below, we import several modules that handle processing steps for an order; namely checking inventory, processing the payment, and resolving shipment via a tracking number. \n",
    "\n",
    "With chaining, each step is executed sequentially, but this sequence is nonetheless non-blocking because of our use of promises. To model the real-world behavior of network traffic to remote databases, each function is called with a randomly generated timeout that models the varying execution speed of asynchronous functions."
   ]
  },
  {
   "cell_type": "code",
   "execution_count": null,
   "metadata": {},
   "outputs": [],
   "source": [
    "var {checkInventory} = require('./inventory.js');\n",
    "var {processPayment} = require('./payment.js');\n",
    "var {shipOrder} = require('./shipping.js');\n",
    "\n",
    "var order = {\n",
    "  items: [['sunglasses', 1], ['bags', 2]],\n",
    "  giftcardBalance: 79.82\n",
    "};\n",
    "\n",
    "checkInventory(order)\n",
    ".then((resolvedValueArray) => {\n",
    "  // Write the correct return statement here:\n",
    "  return processPayment(resolvedValueArray)\n",
    "})\n",
    ".then((resolvedValueArray) => {\n",
    "  // Write the correct return statement here:\n",
    "  return shipOrder(resolvedValueArray)\n",
    "  \n",
    "})\n",
    ".then((successMessage) => {\n",
    "  console.log(successMessage);\n",
    "})\n",
    ".catch((errorMessage) => {\n",
    "  console.log(errorMessage);\n",
    "});"
   ]
  },
  {
   "cell_type": "markdown",
   "metadata": {},
   "source": [
    "## Using Promise.all()\n",
    "What if we’re dealing with multiple promises, but we don’t care about the order? To maximize efficiency we should use concurrency, multiple asynchronous operations happening together. With promises, we can do this with the function Promise.all().\n",
    "\n",
    "`Promise.all()` accepts an array of promises as its argument and returns a single promise. That single promise will settle in one of two ways:\n",
    "\n",
    "- If every promise in the argument array resolves, the single promise returned from Promise.all() will resolve with an array containing the resolve value from each promise in the argument array.\n",
    "- If any promise from the argument array rejects, the single promise returned from Promise.all() will immediately reject with the reason that promise rejected. This behavior is sometimes referred to as failing fast."
   ]
  },
  {
   "cell_type": "code",
   "execution_count": null,
   "metadata": {},
   "outputs": [],
   "source": [
    "var {checkDistributorStock} = require('./distributor.js');\n",
    "\n",
    "var onFulfill = (itemsArray) => {\n",
    "  console.log(`Items checked: ${itemsArray. join(', ')}...`);\n",
    "  console.log(`Every item was available from the distributor. Placing order now.`);\n",
    "};\n",
    "\n",
    "var onReject = (rejectionReason) => {\n",
    "\tconsole.log(rejectionReason);\n",
    "};\n",
    "\n",
    "// Write your code below:\n",
    "var checkSunglasses = checkDistributorStock('sunglasses', 'Favorite Supply Co.')\n",
    "\n",
    "var checkPants = checkDistributorStock('pants', 'Favorite Supply Co.')\n",
    "\n",
    "var checkBags = checkDistributorStock('bags', 'Favorite Supply Co.')\n",
    "\n",
    "Promise.all([checkSunglasses, checkPants, checkBags])\n",
    "  .then(onFulfill)\n",
    "  .catch(onReject)\n",
    "\n"
   ]
  },
  {
   "cell_type": "markdown",
   "metadata": {},
   "source": [
    "# Async ... Await\n",
    "JavaScript is continually improving, and ES8 provides a new syntax for handling our asynchronous action, async...await. The async...await syntax allows us to write asynchronous code that reads similarly to traditional synchronous, imperative programs."
   ]
  },
  {
   "cell_type": "markdown",
   "metadata": {},
   "source": [
    "## Async Syntactic Sugar\n",
    "The async...await syntax is syntactic sugar — it doesn’t introduce new functionality into the language, but rather introduces a new syntax for using promises and generators. Both of these were already built in to the language. Despite this, async...await powerfully improves the readability and scalability of our code."
   ]
  },
  {
   "cell_type": "code",
   "execution_count": null,
   "metadata": {},
   "outputs": [],
   "source": [
    "var fs = require('fs');\n",
    "var {promisifiedReadfile} = require('./utils.js');\n",
    "      \n",
    "// Here we use fs.readfile() and callback functions:\n",
    "fs.readFile('./data/file1.txt', 'utf-8', (err, data) => {\n",
    "  if (err) throw err;\n",
    "  let firstSentence = data;\n",
    "  fs.readFile('./data/file2.txt',  'utf-8', (err, data) => {\n",
    "    if (err) throw err;\n",
    "    let secondSentence = data;\n",
    "    console.log(`Legacy callback syntax: \\n\\t- ${firstSentence}. ${secondSentence}.`);\n",
    "  });\n",
    "});\n",
    "\n",
    "// Here we use native promises with our \"promisified\" version of readfile:\n",
    "let firstSentence;\n",
    "promisifiedReadfile('./data/file1.txt', 'utf-8')\n",
    "  .then((data) => {\n",
    "    firstSentence = data;\n",
    "    return promisifiedReadfile('./data/file2.txt', 'utf-8');\n",
    "  })\n",
    "  .then((data) => {\n",
    "    let secondSentence = data;\n",
    "    console.log(`ES6 promisified syntax: \\n\\t- ${firstSentence}. ${secondSentence}.`)\n",
    "  })\n",
    "  .catch((err) => {console.log(err)});\n",
    "\n",
    "// Here we use promisifiedReadfile() again but instead of using the native promise .then() syntax, we declare and invoke an async/await function:\n",
    "async function readFiles() {\n",
    "  let firstSentence = await promisifiedReadfile('./data/file1.txt', 'utf-8');\n",
    "  let secondSentence = await promisifiedReadfile('./data/file2.txt', 'utf-8');\n",
    "  console.log(`ES8 async syntactic sugar: \\n\\t- ${firstSentence}. ${secondSentence}.`);\n",
    "}\n",
    "\n",
    "readFiles();\n"
   ]
  },
  {
   "cell_type": "markdown",
   "metadata": {},
   "source": [
    "## Using Async\n",
    "The async keyword is used to write functions that handle asynchronous actions. We wrap our asynchronous logic inside a function prepended with the async keyword. Then, we invoke that function. async functions always return a promise. This means we can use traditional promise syntax, like .then() and .catch with our async functions. An async function will return in one of three ways:\n",
    "\n",
    "- If there’s nothing returned from the function, it will return a promise with a resolved value of undefined.\n",
    "- If there’s a non-promise value returned from the function, it will return a promise resolved to that value.\n",
    "- If a promise is returned from the function, it will simply return that promise"
   ]
  },
  {
   "cell_type": "code",
   "execution_count": null,
   "metadata": {},
   "outputs": [],
   "source": [
    "// promisified syntax\n",
    "function withConstructor(num){\n",
    "  return new Promise((resolve, reject) => {\n",
    "    if (num === 0){\n",
    "      resolve('zero');\n",
    "    } else {\n",
    "      resolve('not zero');\n",
    "    }\n",
    "  });\n",
    "}\n",
    "\n",
    "withConstructor(0)\n",
    "  .then((resolveValue) => {\n",
    "  console.log(` withConstructor(0) returned a promise which resolved to: ${resolveValue}.`);\n",
    "});\n",
    "\n",
    "// With async, a promise is automatically returned\n",
    "async function withAsync(num) {\n",
    "  if (num === 0) {\n",
    "    return 'zero'\n",
    "  } else {\n",
    "    return 'not zero'\n",
    "  }\n",
    "\n",
    "}\n",
    "\n",
    "withAsync(100)\n",
    "  .then((resolveValue) => {\n",
    "  console.log(` withAsync(100) returned a promise which resolved to: ${resolveValue}.`);\n",
    "})\n"
   ]
  },
  {
   "cell_type": "markdown",
   "metadata": {},
   "source": [
    "## Await Operator\n",
    "\n",
    "The await keyword can only be used inside an async function. await is an operator: it returns the resolved value of a promise. Since promises resolve in an indeterminate amount of time, await halts, or pauses, the execution of our async function until a given promise is resolved."
   ]
  },
  {
   "cell_type": "code",
   "execution_count": 1,
   "metadata": {},
   "outputs": [
    {
     "name": "stdout",
     "output_type": "stream",
     "text": [
      "I have to decide what's for dinner...\n"
     ]
    },
    {
     "data": {
      "text/plain": [
       "Promise { <pending> }"
      ]
     },
     "execution_count": 1,
     "metadata": {},
     "output_type": "execute_result"
    },
    {
     "name": "stdout",
     "output_type": "stream",
     "text": [
      "Should I make salad...?\n",
      "Should I make ramen...?\n",
      "Should I make eggs...?\n",
      "Should I make chicken...?\n",
      "I'm going to make beans for dinner.\n"
     ]
    }
   ],
   "source": [
    "var {brainstormDinner} = require('./dinner.js');\n",
    "\n",
    "// Native promise version:\n",
    "function nativePromiseDinner() {\n",
    "  brainstormDinner().then((meal) => {\n",
    "\t  console.log(`I'm going to make ${meal} for dinner.`);\n",
    "  });\n",
    "}\n",
    "\n",
    "// async/await version:\n",
    "async function announceDinner() {\n",
    "  // Write your code below:\n",
    "  var meal = await brainstormDinner()\n",
    "  console.log(`I'm going to make ${meal} for dinner! 🫘`);  \n",
    "  \n",
    "}\n",
    "\n",
    "announceDinner()\n"
   ]
  },
  {
   "cell_type": "markdown",
   "metadata": {},
   "source": [
    "## Handling Dependent Promises\n",
    "The true beauty of async...await is when we have a series of asynchronous actions which depend on one another. For example, we may make a network request based on a query to a database. In that case, we would need to wait to make the network request until we had the results from the database. \n",
    "\n",
    "With native promise syntax, we use a chain of .then() functions making sure to correctly return each one. However, with 'Async ... Await' syntax, handling async dependencies is as simple as adding await and ordering each async process in the sequential manner intended. Await helps us to 'wait' for a promise resolution before the next async process ensues. "
   ]
  },
  {
   "cell_type": "code",
   "execution_count": null,
   "metadata": {},
   "outputs": [],
   "source": [
    "var {shopForBeans, soakTheBeans, cookTheBeans} = require('./dinner.js');\n",
    "\n",
    "// declare async series of processes\n",
    "async function makeBeans() {\n",
    "  var type = await shopForBeans()\n",
    "  var isSoft = await soakTheBeans(type)\n",
    "  var dinner = await cookTheBeans(isSoft)\n",
    "\n",
    "  console.log(dinner)\n",
    "\n",
    "}\n",
    "\n",
    "makeBeans()"
   ]
  },
  {
   "cell_type": "markdown",
   "metadata": {},
   "source": [
    "## Handling Errors\n",
    "When .catch() is used with a long promise chain, there is no indication of where in the chain the error was thrown. This can make debugging challenging.\n",
    "\n",
    "With async...await, we use try...catch statements for error handling. By using this syntax, not only are we able to handle errors in the same way we do with synchronous code, but we can also catch both synchronous and asynchronous errors. This makes for easier debugging!"
   ]
  },
  {
   "cell_type": "code",
   "execution_count": null,
   "metadata": {},
   "outputs": [],
   "source": [
    "var {cookBeanSouffle} = require('./dinner.js');\n",
    "\n",
    "// Write your code below:\n",
    "async function hostDinnerParty() {\n",
    "  try {\n",
    "    let beanSouffle = await cookBeanSouffle()\n",
    "    console.log(`${beanSouffle} is served!`)\n",
    "  } catch (error) {\n",
    "    console.log(error)\n",
    "    console.log('Ordering a pizza!')\n",
    "  }\n",
    "}\n",
    "\n",
    "hostDinnerParty()"
   ]
  }
 ],
 "metadata": {
  "kernelspec": {
   "display_name": "JavaScript (Node.js)",
   "language": "javascript",
   "name": "javascript"
  },
  "language_info": {
   "file_extension": ".js",
   "mimetype": "application/javascript",
   "name": "javascript",
   "version": "8.10.0"
  }
 },
 "nbformat": 4,
 "nbformat_minor": 2
}
