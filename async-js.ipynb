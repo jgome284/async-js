{
 "cells": [
  {
   "cell_type": "markdown",
   "metadata": {},
   "source": [
    "# Promises"
   ]
  },
  {
   "cell_type": "markdown",
   "metadata": {},
   "source": [
    "## What is a Promise?\n",
    "Promises are objects that represent the eventual outcome of an asynchronous operation. A Promise object can be in one of three states:\n",
    "\n",
    "- **Pending:** The initial state— the operation has not completed yet.\n",
    "- **Fulfilled:** The operation has completed successfully and the promise now has a resolved value. For example, a request’s promise might resolve with a JSON object as its value.\n",
    "- **Rejected:** The operation has failed and the promise has a reason for the failure. This reason is usually an Error of some kind."
   ]
  },
  {
   "cell_type": "markdown",
   "metadata": {},
   "source": [
    "## Constructing a Promise Object\n",
    " To create a new Promise object, we use the new keyword and the Promise constructor method. The Promise constructor method takes a function parameter called the executor function which runs automatically when the constructor is called. The executor function generally starts an asynchronous operation and dictates how the promise should be settled.\n",
    "\n",
    "The executor function has two function parameters, usually referred to as the resolve() and reject() functions. The resolve() and reject() functions aren’t defined by the programmer. When the Promise constructor runs, JavaScript will pass its own resolve() and reject() functions into the executor function.\n",
    "\n",
    "- `resolve()` is a function with one argument. Under the hood, if invoked, resolve() will change the promise’s status from pending to fulfilled, and the promise’s resolved value will be set to the argument passed into resolve().\n",
    "- `reject()` is a function that takes a reason or error as an argument. Under the hood, if invoked, reject() will change the promise’s status from pending to rejected, and the promise’s rejection reason will be set to the argument passed into reject()."
   ]
  },
  {
   "cell_type": "code",
   "execution_count": 1,
   "metadata": {},
   "outputs": [
    {
     "name": "stdout",
     "output_type": "stream",
     "text": [
      "Promise { 'Sunglasses are in stock! (⌐■_■)' }\n"
     ]
    }
   ],
   "source": [
    "var {inventory} = require('./inventory.js');\n",
    "  \n",
    "// Create executor function\n",
    "function myExecutor(resolve, reject) {\n",
    "  if (inventory.sunglasses.stock > 0) {\n",
    "    resolve('Sunglasses are in stock! (⌐■_■)')\n",
    "  } else {\n",
    "    reject('Sunglasses are sold out')\n",
    "  }\n",
    "}\n",
    "\n",
    "// Create function which returns promise\n",
    "function orderSunglasses() {\n",
    "  return new Promise(myExecutor)\n",
    "}\n",
    "\n",
    "// Store resolved promise object\n",
    "var orderPromise = orderSunglasses()\n",
    "\n",
    "// log promise\n",
    "console.log(orderPromise)"
   ]
  },
  {
   "cell_type": "markdown",
   "metadata": {},
   "source": [
    "## The setTimeout() Function\n",
    "`setTimeout()` is a Node API (a comparable API is provided by web browsers) that uses callback functions to schedule tasks to be performed after a delay. It's useful to simulate asynchronous tasks. setTimeout() has two parameters: a callback function and a delay in milliseconds. In the example below, though setTimeout is called first, it's output is delivered after some delay."
   ]
  },
  {
   "cell_type": "code",
   "execution_count": 6,
   "metadata": {},
   "outputs": [
    {
     "name": "stdout",
     "output_type": "stream",
     "text": [
      "This is the first line of code\n",
      "This is the last line of code... but is it last to execute?? ...🤔\n"
     ]
    },
    {
     "name": "stdout",
     "output_type": "stream",
     "text": [
      "TuRTle InComIng... 🐢\n"
     ]
    }
   ],
   "source": [
    "console.log(\"This is the first line of code\");\n",
    "\n",
    "function usingSTO() {\n",
    "  console.log(\"TuRTle InComIng... 🐢\")\n",
    "}\n",
    "\n",
    "setTimeout(usingSTO, 2000)\n",
    "\n",
    "console.log(\"This is the last line of code... but is it last to execute?? ...🤔\")"
   ]
  },
  {
   "cell_type": "markdown",
   "metadata": {},
   "source": [
    "## Consuming Promises\n",
    "The initial state of an asynchronous promise is pending, but we have a guarantee that it will settle. How do we tell the computer what should happen then? Promise objects come with an aptly named `.then()` method. It allows us to say, “I have a promise, when it settles, then here’s what I want to happen…” `.then()` is a higher-order function— it takes two callback functions as arguments. We refer to these callbacks as handlers. When the promise settles, the appropriate handler will be invoked with that settled value.\n",
    "\n",
    "- The first handler, sometimes called onFulfilled, is a success handler, and it should contain the logic for the promise *resolving*.\n",
    "- The second handler, sometimes called onRejected, is a failure handler, and it should contain the logic for the promise *rejecting*."
   ]
  },
  {
   "cell_type": "markdown",
   "metadata": {},
   "source": [
    "### Successful Promises\n",
    "To handle a “successful” promise, or a promise that resolved, we invoke .then() on the promise, passing in a success handler callback function."
   ]
  },
  {
   "cell_type": "code",
   "execution_count": 3,
   "metadata": {},
   "outputs": [
    {
     "data": {
      "text/plain": [
       "Promise { <pending> }"
      ]
     },
     "execution_count": 3,
     "metadata": {},
     "output_type": "execute_result"
    },
    {
     "name": "stdout",
     "output_type": "stream",
     "text": [
      "Yay! 🥳\n"
     ]
    }
   ],
   "source": [
    "var prom = new Promise((resolve, reject) => {\n",
    "    resolve('Yay! 🥳');\n",
    "  });\n",
    "  \n",
    "var handleSuccess = (resolvedValue) => {\n",
    "  console.log(resolvedValue);\n",
    "};\n",
    "\n",
    "prom.then(handleSuccess); // Prints: 'Yay!'"
   ]
  },
  {
   "cell_type": "markdown",
   "metadata": {},
   "source": [
    "### Rejected Promises\n",
    "When promises fail, a handler can also be passed. The code below simulates a promise that *sometimes* is broken. 😲 \n",
    "\n",
    "Notice that .then() is passed with a second callback function for how to deal with a failed promise."
   ]
  },
  {
   "cell_type": "code",
   "execution_count": 4,
   "metadata": {},
   "outputs": [
    {
     "data": {
      "text/plain": [
       "Promise { <pending> }"
      ]
     },
     "execution_count": 4,
     "metadata": {},
     "output_type": "execute_result"
    },
    {
     "name": "stdout",
     "output_type": "stream",
     "text": [
      "Ohhh noooo! (っ °Д °;)っ\n"
     ]
    }
   ],
   "source": [
    "var iffyProm = new Promise((resolve, reject) => {\n",
    "    let num = Math.random();\n",
    "    if (num < .5 ){\n",
    "      resolve('Yay! 🙌');\n",
    "    } else {\n",
    "      reject('Ohhh noooo! (っ °Д °;)っ');\n",
    "    }\n",
    "  });\n",
    "  \n",
    "var dealWithSuccess = (resolvedValue) => {\n",
    "  console.log(resolvedValue);\n",
    "};\n",
    "\n",
    "var dealWithFailure = (rejectionReason) => {\n",
    "  console.log(rejectionReason);\n",
    "};\n",
    "  \n",
    "iffyProm.then(dealWithSuccess, dealWithFailure);\n",
    "\n",
    "/*\n",
    "An alternative syntax for the above statement is shown below.\n",
    "\n",
    "iffyProm.then(dealWithSuccess).then(null, dealWithFailure);\n",
    "*/"
   ]
  },
  {
   "cell_type": "markdown",
   "metadata": {},
   "source": [
    "### Using .catch() with Promises\n",
    "\n",
    "One way to write cleaner code is to follow a principle called separation of concerns. As such, with separation of concerns, we should organize code into distinct sections each handling a specific task. In the case of handling promises, we should seperate logic for dealing with successful or failed promise resolutions. To do so, we can use .catch as follows:"
   ]
  },
  {
   "cell_type": "code",
   "execution_count": 7,
   "metadata": {},
   "outputs": [
    {
     "data": {
      "text/plain": [
       "Promise { <pending> }"
      ]
     },
     "execution_count": 7,
     "metadata": {},
     "output_type": "execute_result"
    },
    {
     "name": "stdout",
     "output_type": "stream",
     "text": [
      "All of the items are in stock. The total cost of the order is 35.97.\n",
      "shopping cart 🛒:\n",
      "- sunglasses: 1\n",
      "- bags: 2\n"
     ]
    }
   ],
   "source": [
    "var {checkInventory} = require('./inventory.js');\n",
    "\n",
    "var order = {\n",
    "  items: [['sunglasses', 1], ['bags', 2]] // adjust order quantities to see the failure case\n",
    "}; \n",
    "\n",
    "var handleSuccess = (resolvedValue) => {\n",
    "  var items = resolvedValue[0].items\n",
    "  console.log('shopping cart 🛒:')\n",
    "  for (let i = 0; i < items.length; i++) {\n",
    "    console.log(`- ${items[i][0]}: ${items[i][1]}`)\n",
    "  }\n",
    "};\n",
    "\n",
    "var handleFailure = (rejectReason) => {\n",
    "  console.log(rejectReason);\n",
    "};\n",
    "\n",
    "// Write your code below:\n",
    "checkInventory(order)\n",
    "  .then(handleSuccess)\n",
    "  .catch(handleFailure)"
   ]
  },
  {
   "cell_type": "markdown",
   "metadata": {},
   "source": [
    "## Chaining Promises\n",
    "This process of chaining promises together is called composition. Promises are designed with composition in mind!"
   ]
  }
 ],
 "metadata": {
  "kernelspec": {
   "display_name": "JavaScript (Node.js)",
   "language": "javascript",
   "name": "javascript"
  },
  "language_info": {
   "file_extension": ".js",
   "mimetype": "application/javascript",
   "name": "javascript",
   "version": "8.10.0"
  }
 },
 "nbformat": 4,
 "nbformat_minor": 2
}
